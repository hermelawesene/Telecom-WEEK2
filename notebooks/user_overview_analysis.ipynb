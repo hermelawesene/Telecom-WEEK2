{
 "cells": [
  {
   "cell_type": "code",
   "execution_count": 1,
   "metadata": {},
   "outputs": [
    {
     "name": "stdout",
     "output_type": "stream",
     "text": [
      "c:\\Users\\HP\\Documents\\10-Academy\\Telecom-WEEK2\\notebooks\n",
      "c:\\Users\\HP\\Documents\\10-Academy\\Telecom-WEEK2\n"
     ]
    }
   ],
   "source": [
    "import sys\n",
    "import os\n",
    "sys.path.append(os.path.abspath('../scripts'))\n",
    "\n",
    "# Get the current directory\n",
    "current_dir = os.getcwd()\n",
    "print(current_dir)\n",
    "\n",
    "# Get the parent directory\n",
    "parent_dir = os.path.dirname(current_dir)\n",
    "print(parent_dir)\n",
    "\n",
    "# Insert the path to the parent directory\n",
    "sys.path.insert(0, parent_dir)\n",
    "\n",
    "from load_data import load_data_using_sqlalchemy"
   ]
  },
  {
   "cell_type": "markdown",
   "metadata": {},
   "source": [
    "database connection and loading data"
   ]
  },
  {
   "cell_type": "code",
   "execution_count": 2,
   "metadata": {},
   "outputs": [
    {
     "name": "stdout",
     "output_type": "stream",
     "text": [
      "Successfully loaded the data\n"
     ]
    }
   ],
   "source": [
    "# Define your SQL query\n",
    "query = \"SELECT * FROM xdr_data;\"  # Replace with your actual table name\n",
    "\n",
    "# Load data from PostgreSQL using SQLAlchemy\n",
    "df = load_data_using_sqlalchemy(query)\n",
    "\n",
    "# Display the first few rows of the dataframe\n",
    "if df is not None:\n",
    "    print(\"Successfully loaded the data\")\n",
    "else:\n",
    "    print(\"Failed to load data.\")"
   ]
  },
  {
   "cell_type": "code",
   "execution_count": 3,
   "metadata": {},
   "outputs": [],
   "source": [
    "from scripts.user_overview_analysis import OverviewAnalyzer\n"
   ]
  },
  {
   "cell_type": "code",
   "execution_count": 5,
   "metadata": {},
   "outputs": [],
   "source": [
    "analyzer = OverviewAnalyzer(df, 'HTTP DL (Bytes)')"
   ]
  },
  {
   "cell_type": "code",
   "execution_count": 6,
   "metadata": {},
   "outputs": [
    {
     "name": "stdout",
     "output_type": "stream",
     "text": [
      "Your selected dataframe has 55 columns.\n",
      "There are 41 columns that have missing values.\n",
      "Missing Values in df:\n",
      "                                          Missing Values  % of Total Values  \\\n",
      "Nb of sec with 37500B < Vol UL                    130254               86.8   \n",
      "Nb of sec with 6250B < Vol UL < 37500B            111843               74.6   \n",
      "Nb of sec with 125000B < Vol DL                    97538               65.0   \n",
      "TCP UL Retrans. Vol (Bytes)                        96649               64.4   \n",
      "Nb of sec with 31250B < Vol DL < 125000B           93586               62.4   \n",
      "Nb of sec with 1250B < Vol UL < 6250B              92894               61.9   \n",
      "Nb of sec with 6250B < Vol DL < 31250B             88317               58.9   \n",
      "TCP DL Retrans. Vol (Bytes)                        88146               58.8   \n",
      "HTTP UL (Bytes)                                    81810               54.5   \n",
      "HTTP DL (Bytes)                                    81474               54.3   \n",
      "Avg RTT DL (ms)                                    27829               18.6   \n",
      "Avg RTT UL (ms)                                    27812               18.5   \n",
      "Last Location Name                                  1153                0.8   \n",
      "MSISDN/Number                                       1066                0.7   \n",
      "Bearer Id                                            991                0.7   \n",
      "Nb of sec with Vol UL < 1250B                        793                0.5   \n",
      "UL TP < 10 Kbps (%)                                  792                0.5   \n",
      "50 Kbps < UL TP < 300 Kbps (%)                       792                0.5   \n",
      "UL TP > 300 Kbps (%)                                 792                0.5   \n",
      "10 Kbps < UL TP < 50 Kbps (%)                        792                0.5   \n",
      "Nb of sec with Vol DL < 6250B                        755                0.5   \n",
      "DL TP > 1 Mbps (%)                                   754                0.5   \n",
      "50 Kbps < DL TP < 250 Kbps (%)                       754                0.5   \n",
      "250 Kbps < DL TP < 1 Mbps (%)                        754                0.5   \n",
      "DL TP < 50 Kbps (%)                                  754                0.5   \n",
      "Handset Manufacturer                                 572                0.4   \n",
      "Handset Type                                         572                0.4   \n",
      "IMEI                                                 572                0.4   \n",
      "IMSI                                                 570                0.4   \n",
      "Start                                                  1                0.0   \n",
      "Start ms                                               1                0.0   \n",
      "End                                                    1                0.0   \n",
      "End ms                                                 1                0.0   \n",
      "Dur. (ms)                                              1                0.0   \n",
      "Avg Bearer TP UL (kbps)                                1                0.0   \n",
      "Avg Bearer TP DL (kbps)                                1                0.0   \n",
      "Dur. (ms).1                                            1                0.0   \n",
      "Activity Duration UL (ms)                              1                0.0   \n",
      "Activity Duration DL (ms)                              1                0.0   \n",
      "Total UL (Bytes)                                       1                0.0   \n",
      "Total DL (Bytes)                                       1                0.0   \n",
      "\n",
      "                                            Dtype  \n",
      "Nb of sec with 37500B < Vol UL            float64  \n",
      "Nb of sec with 6250B < Vol UL < 37500B    float64  \n",
      "Nb of sec with 125000B < Vol DL           float64  \n",
      "TCP UL Retrans. Vol (Bytes)               float64  \n",
      "Nb of sec with 31250B < Vol DL < 125000B  float64  \n",
      "Nb of sec with 1250B < Vol UL < 6250B     float64  \n",
      "Nb of sec with 6250B < Vol DL < 31250B    float64  \n",
      "TCP DL Retrans. Vol (Bytes)               float64  \n",
      "HTTP UL (Bytes)                           float64  \n",
      "HTTP DL (Bytes)                           float64  \n",
      "Avg RTT DL (ms)                           float64  \n",
      "Avg RTT UL (ms)                           float64  \n",
      "Last Location Name                         object  \n",
      "MSISDN/Number                             float64  \n",
      "Bearer Id                                 float64  \n",
      "Nb of sec with Vol UL < 1250B             float64  \n",
      "UL TP < 10 Kbps (%)                       float64  \n",
      "50 Kbps < UL TP < 300 Kbps (%)            float64  \n",
      "UL TP > 300 Kbps (%)                      float64  \n",
      "10 Kbps < UL TP < 50 Kbps (%)             float64  \n",
      "Nb of sec with Vol DL < 6250B             float64  \n",
      "DL TP > 1 Mbps (%)                        float64  \n",
      "50 Kbps < DL TP < 250 Kbps (%)            float64  \n",
      "250 Kbps < DL TP < 1 Mbps (%)             float64  \n",
      "DL TP < 50 Kbps (%)                       float64  \n",
      "Handset Manufacturer                       object  \n",
      "Handset Type                               object  \n",
      "IMEI                                      float64  \n",
      "IMSI                                      float64  \n",
      "Start                                      object  \n",
      "Start ms                                  float64  \n",
      "End                                        object  \n",
      "End ms                                    float64  \n",
      "Dur. (ms)                                 float64  \n",
      "Avg Bearer TP UL (kbps)                   float64  \n",
      "Avg Bearer TP DL (kbps)                   float64  \n",
      "Dur. (ms).1                               float64  \n",
      "Activity Duration UL (ms)                 float64  \n",
      "Activity Duration DL (ms)                 float64  \n",
      "Total UL (Bytes)                          float64  \n",
      "Total DL (Bytes)                          float64  \n"
     ]
    }
   ],
   "source": [
    "missing_values_df = analyzer.missing_values_table(df)\n",
    "print(\"Missing Values in df:\")\n",
    "print(missing_values_df)"
   ]
  },
  {
   "cell_type": "markdown",
   "metadata": {},
   "source": [
    "Analysis of Missing Values in the Telecom Dataset\n",
    "The dataset contains 55 columns, of which 41 columns have missing values. This high proportion of missing data across numerous features is a significant concern, as it can impact the quality and reliability of the analysis. Here's a breakdown of the findings:\n",
    "\n",
    "Key Findings:\n",
    "Significant Missing Data in High-Volume Features:\n",
    "\n",
    "Columns like Nb of sec with 37500B < Vol UL, Nb of sec with 6250B < Vol UL < 37500B, and Nb of sec with 125000B < Vol DL have substantial missing values, with percentages of missing data as high as 86.8%, 74.6%, and 65.0%, respectively.\n",
    "These columns are critical as they represent key performance indicators related to data upload and download volumes. The high percentage of missing data suggests either data collection issues or irregularities in user activity.\n",
    "Transmission and HTTP Data:\n",
    "\n",
    "Columns related to TCP retransmission and HTTP data, such as TCP UL Retrans. Vol (Bytes) and HTTP UL (Bytes), also exhibit a high percentage of missing values (around 54-64%).\n",
    "Missing data in these features might hinder the understanding of network performance and user behavior, especially in analyzing retransmission rates and HTTP traffic.\n",
    "Moderate Missing Data in Handset Information:\n",
    "\n",
    "The Handset Manufacturer, Handset Type, and IMEI columns have around 0.4% missing data. Although the percentage is relatively low, it is crucial to address these missing values as they are fundamental to the User Overview analysis, which focuses on handset types and manufacturers.\n",
    "Accurate and complete handset information is essential for identifying trends in device usage and making informed marketing recommendations.\n",
    "Critical Identifiers and Time Features:\n",
    "\n",
    "Columns such as MSISDN/Number, Bearer Id, Start, End, and Dur. (ms) show minimal missing values (less than 1%). These columns are vital for user identification, session tracking, and duration analysis.\n",
    "Ensuring these features are complete and accurate is critical for analyzing user behavior and session durations.\n",
    "Other Technical Metrics:\n",
    "\n",
    "Several columns, such as UL TP < 10 Kbps (%), DL TP > 1 Mbps (%), and Total UL (Bytes), have very minimal missing values (less than 1%).\n",
    "These columns provide detailed insights into data transmission rates and overall data usage, which are crucial for performance analysis.\n",
    "Interpretation:\n",
    "The dataset has significant missing values in key performance and volume-related features, which could potentially skew the analysis if not properly addressed. While some features have minimal missing data, the overall high percentage of missing data across the dataset indicates potential data collection issues, user behavior irregularities, or device-related problems.\n",
    "\n",
    "Recommendations:\n",
    "Data Imputation or Exclusion: Consider imputation techniques for missing values where appropriate, especially for columns with a smaller percentage of missing data. For features with extremely high missing values (over 50%), assess the impact on the analysis and consider excluding these columns if they do not add substantial value.\n",
    "\n",
    "Focus on Handset Data: Ensure that the handset information is as complete as possible since it is crucial for the User Overview analysis. Missing data in these columns should be addressed with targeted imputation strategies or by investigating the source of the missing data.\n",
    "\n",
    "Investigate Data Collection: The high level of missing data in certain columns may indicate issues with the data collection process. Investigating the root causes of these missing values could help improve data quality in future collections.\n",
    "\n",
    "Sensitivity Analysis: Conduct sensitivity analysis to understand how the missing data might impact the results. This can help in determining the robustness of your findings and ensuring that the analysis remains reliable even with incomplete data.\n",
    "\n",
    "This analysis provides an overview of the dataset’s condition and highlights areas where improvements or careful consideration are necessary for a more accurate and insightful analysis."
   ]
  },
  {
   "cell_type": "markdown",
   "metadata": {},
   "source": [
    "The telecom dataset I'm working with contains 55 columns, and I've found that 41 of these columns have missing values. This is concerning, especially since key features related to data upload and download volumes, like Nb of sec with 37500B < Vol UL and Nb of sec with 125000B < Vol DL, have missing values ranging from 65% to nearly 87%. The high percentage of missing data in these areas could indicate problems with data collection or irregularities in user activity. I've also noticed that important columns related to TCP retransmission and HTTP data, such as TCP UL Retrans. Vol (Bytes) and HTTP UL (Bytes), have missing values of around 54-64%. This could affect my analysis of network performance and user behavior. On a more positive note, the handset-related data, such as Handset Manufacturer and Handset Type, has a much lower percentage of missing values, around 0.4%. However, even this small amount of missing data needs to be addressed since it's crucial for my analysis of device usage. Columns that are vital for tracking user sessions and behavior, like MSISDN/Number and Bearer Id, have minimal missing values, which is reassuring. Given these findings, I'm considering using imputation techniques for columns with lower percentages of missing data, while possibly excluding those with extremely high missing values. I also think it's important to investigate the causes of these missing values to improve data quality in future projects. Overall, I'm aware that these missing values could impact my analysis, so I'll be conducting sensitivity checks to ensure that my findings are as accurate and reliable as possible."
   ]
  },
  {
   "cell_type": "code",
   "execution_count": 8,
   "metadata": {},
   "outputs": [
    {
     "ename": "TypeError",
     "evalue": "OverviewAnalyzer.convert_bytes_to_megabytes() takes 2 positional arguments but 3 were given",
     "output_type": "error",
     "traceback": [
      "\u001b[1;31m---------------------------------------------------------------------------\u001b[0m",
      "\u001b[1;31mTypeError\u001b[0m                                 Traceback (most recent call last)",
      "Cell \u001b[1;32mIn[8], line 1\u001b[0m\n\u001b[1;32m----> 1\u001b[0m df[\u001b[38;5;124m'\u001b[39m\u001b[38;5;124mx\u001b[39m\u001b[38;5;124m'\u001b[39m] \u001b[38;5;241m=\u001b[39m \u001b[43manalyzer\u001b[49m\u001b[38;5;241;43m.\u001b[39;49m\u001b[43mconvert_bytes_to_megabytes\u001b[49m\u001b[43m(\u001b[49m\u001b[43mdf\u001b[49m\u001b[43m,\u001b[49m\u001b[43m \u001b[49m\u001b[38;5;124;43m'\u001b[39;49m\u001b[38;5;124;43mHTTP DL (Bytes)\u001b[39;49m\u001b[38;5;124;43m'\u001b[39;49m\u001b[43m)\u001b[49m\n\u001b[0;32m      3\u001b[0m \u001b[38;5;28mprint\u001b[39m(df)\n",
      "\u001b[1;31mTypeError\u001b[0m: OverviewAnalyzer.convert_bytes_to_megabytes() takes 2 positional arguments but 3 were given"
     ]
    }
   ],
   "source": [
    "df['x'] = analyzer.convert_bytes_to_megabytes(df, 'HTTP DL (Bytes)')\n",
    "\n",
    "print(df)"
   ]
  }
 ],
 "metadata": {
  "kernelspec": {
   "display_name": ".venv",
   "language": "python",
   "name": "python3"
  },
  "language_info": {
   "codemirror_mode": {
    "name": "ipython",
    "version": 3
   },
   "file_extension": ".py",
   "mimetype": "text/x-python",
   "name": "python",
   "nbconvert_exporter": "python",
   "pygments_lexer": "ipython3",
   "version": "3.12.5"
  }
 },
 "nbformat": 4,
 "nbformat_minor": 2
}
